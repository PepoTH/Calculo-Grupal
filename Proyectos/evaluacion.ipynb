{
 "cells": [
  {
   "cell_type": "markdown",
   "id": "ae77fce1-d7e9-4dd4-8099-2b2c71a42811",
   "metadata": {
    "tags": []
   },
   "source": [
    "Asignación Grupal - Cálculo Numérico  \n",
    "Universidad José Antonio Páez  \n",
    "  \n",
    "#### Integrantes:  \n",
    "-Cesar Dominguez 30.640.838  \n",
    "-José Santana  31.608.829  \n",
    "-Alejandro Chávez 32.278.392\n",
    "\n",
    "---\n",
    "\n",
    "# Principios básicos de **The Julia Programming Language**\n"
   ]
  },
  {
   "cell_type": "markdown",
   "id": "3f81e0a2-5f3c-4528-8612-1f49a895496b",
   "metadata": {
    "jp-MarkdownHeadingCollapsed": true,
    "tags": []
   },
   "source": [
    "### **TIPOS DE DATOS**"
   ]
  },
  {
   "cell_type": "markdown",
   "id": "a9153346-4988-40fe-b130-ee3bb3081c5d",
   "metadata": {},
   "source": [
    "Para crear variables no necesitas especificar el **tipo de dato**, solo lo igualas al dato que desees."
   ]
  },
  {
   "cell_type": "code",
   "execution_count": null,
   "id": "f549f0fa-0852-4218-b7fd-7da15ef4b4de",
   "metadata": {
    "tags": []
   },
   "outputs": [],
   "source": [
    "x = 10\n",
    "y = 45.89\n",
    "complejo = 4 + 5im\n",
    "booleanos = true\n",
    "caracter = 'a'\n",
    "palabra = \"Nuevo Valor\"\n"
   ]
  },
  {
   "cell_type": "markdown",
   "id": "197a88d1-2b83-455d-85a5-68ab54ffb368",
   "metadata": {},
   "source": [
    "Existen muchos tipos pero los más importantes son: enteros, reales, complejo, booleano, carácter y strings o cadenas.\n",
    "Tambien puede imprimir dichos resultados por consola introduciendolos en la funcion:"
   ]
  },
  {
   "cell_type": "code",
   "execution_count": null,
   "id": "04441f98-ffbf-41b5-8e95-e63661d688bd",
   "metadata": {},
   "outputs": [],
   "source": [
    "println(dato)"
   ]
  },
  {
   "cell_type": "markdown",
   "id": "ee4bd79d-e451-477a-9029-d929ed808333",
   "metadata": {},
   "source": [
    "Ejemplo de tipos de datos:"
   ]
  },
  {
   "cell_type": "code",
   "execution_count": null,
   "id": "008469e0-fbd8-49d3-bfab-56ce6daea767",
   "metadata": {
    "tags": []
   },
   "outputs": [],
   "source": [
    "x = 79\n",
    "print(\"Tu numero es: \" * string(x))"
   ]
  },
  {
   "cell_type": "markdown",
   "id": "bcc45327-5dbe-4509-976e-1474f7f13f2b",
   "metadata": {},
   "source": [
    "Se puede concatenar o unir cadenas utilizando *, pero si son números previamente tienes que transformarlo a String,\n",
    "utilizando string(valor)"
   ]
  },
  {
   "cell_type": "markdown",
   "id": "f8886397-0758-441b-9fc8-782969980a1d",
   "metadata": {},
   "source": [
    "---"
   ]
  },
  {
   "cell_type": "markdown",
   "id": "5855b006-9383-45db-ab20-2b918219b331",
   "metadata": {
    "jp-MarkdownHeadingCollapsed": true,
    "tags": []
   },
   "source": [
    "### **ARITMÉTICA**"
   ]
  },
  {
   "cell_type": "markdown",
   "id": "b01ad0ca-1d3c-4ce9-abc9-12b6d1052309",
   "metadata": {
    "tags": []
   },
   "source": [
    "##### Operadores Aritméticos"
   ]
  },
  {
   "cell_type": "markdown",
   "id": "70a930b7-1e03-4159-b42c-d655f2c34f3d",
   "metadata": {
    "tags": []
   },
   "source": [
    "La operaciones que se pueden realizar en Julia no son muy diferentes a otros lenguajes de programación."
   ]
  },
  {
   "cell_type": "code",
   "execution_count": null,
   "id": "d74b4ab4-714f-41fa-9893-476625d12c0a",
   "metadata": {
    "tags": []
   },
   "outputs": [],
   "source": [
    "y = 1\n",
    "x = 1\n",
    "\n",
    "x + y #Suma\n",
    "x - y #Resta\n",
    "x * y #Multiplicacion\n",
    "x / y #División\n",
    "x \\ y #División Inversa\n",
    "x ÷ y #División Entera\n",
    "x ^ y #Potencia\n",
    "x % y #Residuo\n",
    "-x #Inversor"
   ]
  },
  {
   "cell_type": "markdown",
   "id": "650c7dff-6a96-4bc6-a650-ddf39dce9c44",
   "metadata": {},
   "source": [
    "Se pueden observar operaciones nuevas como la **división inversa** la cual invierte el numerador y el denominador, y los divide,\n",
    "es decir x \\ y = y / x. Tambien tenemos **división entera** la cual nos devuelve la parte entera de la división. Tenemos el **residuo**\n",
    "que nos devuelve el residuo de una división, y por ultimo el **inversor** que invierte el signo que tenga el número."
   ]
  },
  {
   "cell_type": "markdown",
   "id": "01b21d13-3654-4b6b-af27-b7ca08968d9d",
   "metadata": {
    "tags": []
   },
   "source": [
    "##### Operadores Booleanos"
   ]
  },
  {
   "cell_type": "markdown",
   "id": "4a7fc1d5",
   "metadata": {},
   "source": [
    "En Julia contamos con distintos Operadores Booleanos, los cuales permiten las distintas operaciones lógicas de conjuntos matemáticos."
   ]
  },
  {
   "cell_type": "code",
   "execution_count": null,
   "id": "ae50885b-f376-4cad-b96b-700f71790860",
   "metadata": {},
   "outputs": [],
   "source": [
    "x = true\n",
    "y = false\n",
    "\n",
    "!x #Negación\n",
    "x && y #Conjunción\n",
    "x || d #Disyunción"
   ]
  },
  {
   "cell_type": "markdown",
   "id": "0ccc2ee1",
   "metadata": {},
   "source": [
    "Cabe recordar que la negación, como viene definida por las operaciones lógicas, puede cambiar el valor booleano de cualquier variable (de **true** a **false** y viceversa).\n",
    "\n",
    "Por otro lado de igual manera, es importante destacar que la conjunción es definida como la operación **and** y la disyunción es definida como la operación **or**, operaciones las cuales evaluan el valor de las variables a operar, para returnar de mismo modo, un valor booleano\n",
    " "
   ]
  },
  {
   "cell_type": "markdown",
   "id": "ef961551",
   "metadata": {},
   "source": [
    "##### Comparadores Lógicos"
   ]
  },
  {
   "cell_type": "markdown",
   "id": "4a058c8c",
   "metadata": {},
   "source": [
    "Tambien se nos ofrece los comparadores típicos de variables, los cuales nos dan como resultado un valor Booleano."
   ]
  },
  {
   "cell_type": "code",
   "execution_count": null,
   "id": "e77f3fa9",
   "metadata": {},
   "outputs": [],
   "source": [
    "== #Es igual a\n",
    "!= #No es igual a\n",
    "< #Menor que\n",
    "> #Mayor que\n",
    "<= , ≤ #Menor o igual que\n",
    ">=, ≥ #Mayor o igual que"
   ]
  },
  {
   "cell_type": "markdown",
   "id": "9d0cd976",
   "metadata": {},
   "source": [
    "Un ejemplo de uso:"
   ]
  },
  {
   "cell_type": "code",
   "execution_count": null,
   "id": "8c1ef72b",
   "metadata": {},
   "outputs": [],
   "source": [
    "x = 73\n",
    "y = 54\n",
    "\n",
    "print(x == y)"
   ]
  },
  {
   "cell_type": "markdown",
   "id": "b0efbcb3",
   "metadata": {},
   "source": [
    "Julia cuenta con una novedad que muy pocos lenguajes de programación contienen, y es la cadena de comparadores. Por ejemplo:"
   ]
  },
  {
   "cell_type": "code",
   "execution_count": null,
   "id": "46f290f5",
   "metadata": {},
   "outputs": [],
   "source": [
    "a = 5\n",
    "b = 10\n",
    "c = 15\n",
    "\n",
    "resultado = a < b < c #La variable resultado recibirá un valor booleano definido por la cadena de comparadores\n",
    "println(resultado)"
   ]
  },
  {
   "cell_type": "markdown",
   "id": "f552e450",
   "metadata": {},
   "source": [
    "---"
   ]
  },
  {
   "cell_type": "markdown",
   "id": "953f59cc",
   "metadata": {},
   "source": [
    "### **CONDICIONALES**"
   ]
  },
  {
   "cell_type": "markdown",
   "id": "6f9e7da4",
   "metadata": {},
   "source": [
    "La estructura básica de los condicionales en Julia permiten evaluar una o varias condiciones y ejecutar diferentes bloques de código en función del resultado de esas evaluaciones. La estructura básica de los condicionales incluye:"
   ]
  },
  {
   "cell_type": "markdown",
   "id": "af294238",
   "metadata": {},
   "source": [
    "##### '**if**' -> Ejecuta un bloque de código si la condición es verdadera.  \n",
    "##### '**elseif**' -> Permite múltiples condiciones.  \n",
    "##### '**else**' -> Proporciona una ruta de ejecución si las condiciones anteriores son falsas.  "
   ]
  },
  {
   "cell_type": "markdown",
   "id": "8f20d9b6",
   "metadata": {},
   "source": [
    "A continuación se muestra un código de ejemplo:"
   ]
  },
  {
   "cell_type": "code",
   "execution_count": null,
   "id": "9b51696b",
   "metadata": {},
   "outputs": [],
   "source": [
    "x = 7\n",
    "\n",
    "if x > 10\n",
    "    println(\"x es mayor que 10\")\n",
    "elseif x > 5\n",
    "    println(\"x es mayor que 5 pero menor o igual a 10\")\n",
    "else\n",
    "    println(\"x es menor o igual a 5\")\n",
    "end"
   ]
  },
  {
   "cell_type": "markdown",
   "id": "848d376e",
   "metadata": {},
   "source": [
    "Como se puede observar, el uso de '**end**' es crucial para definir claramente dónde termina el bloque de código asociado a la estructura del condicional. Esto ayuda a mantener el código organizado y legible.\n",
    "\n",
    "Además cabe destacar, que para la estructuración de condicionales es muy común usar los distintos operadores y comparadores lógicos, vistos en la sección de Aritmética."
   ]
  },
  {
   "cell_type": "markdown",
   "id": "a564f9fe",
   "metadata": {},
   "source": [
    "---"
   ]
  },
  {
   "cell_type": "markdown",
   "id": "8af54c53",
   "metadata": {},
   "source": [
    "### **BUCLES O CICLOS**"
   ]
  },
  {
   "cell_type": "markdown",
   "id": "60d605c4",
   "metadata": {},
   "source": [
    "Los bucles son una herramienta muy importante en la programación, ya que nos permiten ejecutar un bloque de código varias veces seguidas, que nos ayudan a recorrer listas,arreglos y hacer operaciones varias veces, los bucles se comporta como \n",
    "un ciclo repetitivo en el cual nosotros le colocamos el punto de parada."
   ]
  },
  {
   "cell_type": "markdown",
   "id": "9e9245bc",
   "metadata": {},
   "source": [
    "A traves de esta breve introduccion a los bucles, vamos a hablar como se comporta los bucles en el lenguaje de\n",
    "programacion julia, hablaremos de su funcionamiento,sintaxis y entre otras cosas"
   ]
  },
  {
   "cell_type": "markdown",
   "id": "71043fbd",
   "metadata": {},
   "source": [
    "Los bucles que se maneja en el lenguaje **Julia** son: \n",
    "\n",
    "-El bucle o ciclo For \n",
    "\n",
    "-El bucle o ciclo While"
   ]
  },
  {
   "cell_type": "markdown",
   "id": "fa8343f9",
   "metadata": {},
   "source": [
    "### For"
   ]
  },
  {
   "cell_type": "markdown",
   "id": "9d21a481",
   "metadata": {},
   "source": [
    "El ciclo For en Julia es muy parecido al ciclo For de Python comenzamos poniendo la palabra For y despues colocamos\n",
    "una variable la cual va a ir aumentando cada vez que termine el ciclo y luego colocamos la palabra **in**\n",
    "y para finalizar colocamos los valores sobre los que se quiere iterar."
   ]
  },
  {
   "cell_type": "code",
   "execution_count": null,
   "id": "2b19ce17",
   "metadata": {},
   "outputs": [],
   "source": [
    "#Ejemplo de recorrido de un ciclo for\n",
    "\n",
    "suma = 0\n",
    "for i in 1:10\n",
    "    suma += i\n",
    "end\n",
    "println(suma)"
   ]
  },
  {
   "cell_type": "markdown",
   "id": "4c4a3a25",
   "metadata": {},
   "source": [
    "Como podemos ver en el ejemplo lo que hace el ciclo For es que va a ir almacenando la suma de los valores \n",
    "a iterar en otras palabras como suma = 0 y en el ciclo for suma va a hacer igual a suma + i, \n",
    "que i representa el numero de las vueltas."
   ]
  },
  {
   "cell_type": "markdown",
   "id": "8b23fe8e",
   "metadata": {},
   "source": [
    "Por otro lado, si se quiere iterar en pasos diferentes, solamente se tiene que indicar los pasos entre el primer y el último valor. Así para escribir los números entre 1 y 10 de tres en tres se puede usar el siguiente bloque de codigo."
   ]
  },
  {
   "cell_type": "code",
   "execution_count": null,
   "id": "171e7ff5",
   "metadata": {},
   "outputs": [],
   "source": [
    "for i in 2:3:20\n",
    "    println(i)\n",
    "end"
   ]
  },
  {
   "cell_type": "markdown",
   "id": "7aa5b267",
   "metadata": {},
   "source": [
    "Pero no solamente los bucles se recorren con numeros, tambien se recorren en cadenas de textos\n",
    "como este ejemplo:"
   ]
  },
  {
   "cell_type": "code",
   "execution_count": null,
   "id": "06d896ef",
   "metadata": {},
   "outputs": [],
   "source": [
    "cadena = \"Hola\"\n",
    "for i in cadena\n",
    "    println(i)\n",
    "end"
   ]
  },
  {
   "cell_type": "markdown",
   "id": "2399ac86",
   "metadata": {},
   "source": [
    "### While"
   ]
  },
  {
   "cell_type": "markdown",
   "id": "88fd7d03",
   "metadata": {},
   "source": [
    "En el caso del ciclo While , es un bucle que se van a repetir cuando se cumpla una condicion logica. \n",
    "Lo primero es colocar la palabra **While**,luego colocamos la condición Logica."
   ]
  }
 ],
 "metadata": {
  "kernelspec": {
   "display_name": "Julia 1.11.0-beta1",
   "language": "julia",
   "name": "julia-1.11"
  },
  "language_info": {
   "file_extension": ".jl",
   "mimetype": "application/julia",
   "name": "julia",
   "version": "1.11.0-beta1"
  }
 },
 "nbformat": 4,
 "nbformat_minor": 5
}
