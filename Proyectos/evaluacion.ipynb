{
 "cells": [
  {
   "cell_type": "markdown",
   "id": "ae77fce1-d7e9-4dd4-8099-2b2c71a42811",
   "metadata": {},
   "source": [
    "Asignacion Grupal - Calculo Numerico\n",
    "Universidad Jose Antonio Paez\n",
    "\n",
    "Integrantes:\n",
    "-Cesar Dominguez 30.640.838\n",
    "-Jose Santana\n",
    "-Alejandro Chavez\n",
    "\n",
    "---\n",
    "\n",
    "Principios basicos de The Julia Programming Language\n"
   ]
  },
  {
   "cell_type": "markdown",
   "id": "a9153346-4988-40fe-b130-ee3bb3081c5d",
   "metadata": {},
   "source": [
    "Para crear variables no necesitas especificar el tipo de dato, solo lo igualas al dato que desees"
   ]
  },
  {
   "cell_type": "code",
   "execution_count": null,
   "id": "f549f0fa-0852-4218-b7fd-7da15ef4b4de",
   "metadata": {
    "tags": []
   },
   "outputs": [],
   "source": [
    "x = 10\n",
    "y = 45.89\n",
    "complejo = 4 + 5im\n",
    "booleanos = true\n",
    "caracter = 'a'\n",
    "palabra = \"Nuevo Valor\"\n"
   ]
  },
  {
   "cell_type": "markdown",
   "id": "197a88d1-2b83-455d-85a5-68ab54ffb368",
   "metadata": {},
   "source": [
    "Existen muchos tipos pero los mas importantes son: enteros, reales, complejo, booleano, caracter y strings o cadenas\n",
    "Tambien puede imprimir dichos resultados introduciendolos en la funcion:"
   ]
  },
  {
   "cell_type": "code",
   "execution_count": null,
   "id": "04441f98-ffbf-41b5-8e95-e63661d688bd",
   "metadata": {},
   "outputs": [],
   "source": [
    "println(dato)"
   ]
  },
  {
   "cell_type": "markdown",
   "id": "ee4bd79d-e451-477a-9029-d929ed808333",
   "metadata": {},
   "source": [
    "Ejemplo de tipos de datos:"
   ]
  },
  {
   "cell_type": "code",
   "execution_count": 53,
   "id": "008469e0-fbd8-49d3-bfab-56ce6daea767",
   "metadata": {
    "tags": []
   },
   "outputs": [
    {
     "name": "stdout",
     "output_type": "stream",
     "text": [
      "Tu numero es: 79"
     ]
    }
   ],
   "source": [
    "x = 79\n",
    "print(\"Tu numero es: \" * string(x))"
   ]
  },
  {
   "cell_type": "markdown",
   "id": "bcc45327-5dbe-4509-976e-1474f7f13f2b",
   "metadata": {},
   "source": [
    "Se puede concatenar o unir cadenas utilizando *, pero si son numeros previamente tienes que transformarlo a String,\n",
    "utilizando string(valor)"
   ]
  }
 ],
 "metadata": {
  "kernelspec": {
   "display_name": "Julia 1.10.3",
   "language": "julia",
   "name": "julia-1.10"
  },
  "language_info": {
   "file_extension": ".jl",
   "mimetype": "application/julia",
   "name": "julia",
   "version": "1.10.3"
  }
 },
 "nbformat": 4,
 "nbformat_minor": 5
}
