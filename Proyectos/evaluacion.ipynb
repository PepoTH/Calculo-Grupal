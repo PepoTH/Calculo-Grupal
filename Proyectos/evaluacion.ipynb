{
 "cells": [
  {
   "cell_type": "markdown",
   "id": "ae77fce1-d7e9-4dd4-8099-2b2c71a42811",
   "metadata": {},
   "source": [
    "Asignacion Grupal - Calculo Numerico\n",
    "Universidad Jose Antonio Paez\n",
    "\n",
    "Integrantes:\n",
    "-Cesar Dominguez 30.640.838\n",
    "-Jose Santana\n",
    "-Alejandro Chavez\n",
    "\n",
    "Principios basicos de The Julia Programming Language"
   ]
  },
  {
   "cell_type": "code",
   "execution_count": null,
   "id": "c2a88560-8ba1-4346-9c4b-32dcb3e93410",
   "metadata": {},
   "outputs": [],
   "source": []
  }
 ],
 "metadata": {
  "kernelspec": {
   "display_name": "Python 3 (ipykernel)",
   "language": "python",
   "name": "python3"
  },
  "language_info": {
   "codemirror_mode": {
    "name": "ipython",
    "version": 3
   },
   "file_extension": ".py",
   "mimetype": "text/x-python",
   "name": "python",
   "nbconvert_exporter": "python",
   "pygments_lexer": "ipython3",
   "version": "3.11.7"
  }
 },
 "nbformat": 4,
 "nbformat_minor": 5
}
