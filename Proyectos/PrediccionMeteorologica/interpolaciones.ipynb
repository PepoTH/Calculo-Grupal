{
 "cells": [
  {
   "cell_type": "markdown",
   "metadata": {},
   "source": [
    "#  **Análisis y Predicción de Datos Meteorológicos con Métodos de Interpolación**\n",
    "### Alejandro Chávez - 32.278.392\n",
    "### Cesar Dominguez - 30.640.838\n",
    "### José Santana - 31.608.829\n",
    "\n",
    "En el presente proyecto estaremos analizando con distintos métodos de Interpolación, las temperaturas de una ciudad, con el fin de modelar e intentar predecir estos datos meteorológicos.\n",
    "\n",
    "Los metodos de interpolación que emplearemos son:\n",
    "* Interpolación de Taylor\n",
    "* Interpolación de Lagrange\n",
    "* Interpolación de Hermite\n",
    "* Interpolación Polinómica a Trozos\n",
    "---\n",
    "## **Generación de datos**\n",
    "\n",
    "Para la generación de datos utilizaremos como referencia la ciudad de Valencia, Carabobo (Ubicada en Venezuela) generando datos aleatorios dentro de un rango comprendido por el valor de la temperatura mínima (20°c) y el valor de la temperatura máxima (30°c) de la última semana en la ciudad."
   ]
  },
  {
   "cell_type": "code",
   "execution_count": null,
   "metadata": {},
   "outputs": [],
   "source": [
    "lista = []\n",
    "for i in 1:7\n",
    "    push!(lista,rand(20:30))\n",
    "end\n",
    "println(lista)\n",
    "\n",
    "listafija = [29, 21, 28, 24, 20, 21, 30]"
   ]
  }
 ],
 "metadata": {
  "kernelspec": {
   "display_name": "Julia 1.10.2",
   "language": "julia",
   "name": "julia-1.10"
  },
  "language_info": {
   "file_extension": ".jl",
   "mimetype": "application/julia",
   "name": "julia",
   "version": "1.10.2"
  }
 },
 "nbformat": 4,
 "nbformat_minor": 2
}
