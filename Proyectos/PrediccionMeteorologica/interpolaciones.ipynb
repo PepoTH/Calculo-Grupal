{
 "cells": [
  {
   "cell_type": "markdown",
   "metadata": {},
   "source": [
    "#  **Análisis y Predicción de Datos Meteorológicos con Métodos de Interpolación**\n",
    "### Alejandro Chávez - 32.278.392\n",
    "### Cesar Dominguez - 30.640.838\n",
    "### Jose Santana - 31.608.829\n",
    "---\n",
    "## Generación de datos"
   ]
  }
 ],
 "metadata": {
  "language_info": {
   "name": "python"
  }
 },
 "nbformat": 4,
 "nbformat_minor": 2
}
