{
 "cells": [
  {
   "cell_type": "markdown",
   "metadata": {},
   "source": [
    "#  **Análisis y Predicción de Datos Meteorológicos con Métodos de Interpolación**\n",
    "### Alejandro Chávez - 32.278.392\n",
    "### Cesar Dominguez - 30.640.838\n",
    "### José Santana - 31.608.829\n",
    "\n",
    "En el presente proyecto estaremos analizando con distintos métodos de Interpolación, las temperaturas de una ciudad, con el fin de modelar e intentar predecir estos datos meteorológicos.\n",
    "\n",
    "Los metodos de interpolación que emplearemos son:\n",
    "* Interpolación de Taylor\n",
    "* Interpolación de Lagrange\n",
    "* Interpolación de Hermite\n",
    "* Interpolación Polinómica a Trozos\n",
    "---\n",
    "## **Generación de datos**\n",
    "\n",
    "Para la generación de datos utilizaremos como referencia la ciudad de Valencia, Carabobo (Ubicada en Venezuela), ciudad la cual mantiene una temperatura dentro de un rango comprendido por el valor de la temperatura mínima (20°c) y el valor de la temperatura máxima (30°c) de la última semana en la ciudad. Por lo tanto utilizaremos una función que pueda comprender entre dichos valores. La función a utilizar será:\n",
    "\n",
    "**y(x)=5⋅sin(x)+25**"
   ]
  },
  {
   "cell_type": "code",
   "execution_count": null,
   "metadata": {},
   "outputs": [],
   "source": [
    "lista = []\n",
    "for x in 1:7\n",
    "    push!(lista,5 * sin(x) + 25)\n",
    "end\n",
    "println(lista)"
   ]
  },
  {
   "cell_type": "markdown",
   "metadata": {},
   "source": [
    "A continuación se graficará los valores de temperaturas obtenidos en 7 días"
   ]
  },
  {
   "cell_type": "code",
   "execution_count": null,
   "metadata": {},
   "outputs": [],
   "source": [
    "#Instalar paquetes necesarios (Solo hacer 1 vez, puede tardar más o menos 1 minutos)\n",
    "using Pkg\n",
    "Pkg.add(\"Plots\")\n",
    "using Plots"
   ]
  },
  {
   "cell_type": "code",
   "execution_count": null,
   "metadata": {},
   "outputs": [],
   "source": [
    "x = 1:length(lista)\n",
    "y = lista\n",
    "scatter(x, y, xlabel=\"Día\", ylabel=\"Valor de la temperatura\", title=\"Temperatura a través de los días\", legend=false, marker=:circle)"
   ]
  },
  {
   "cell_type": "markdown",
   "metadata": {
    "tags": []
   },
   "source": [
    "---\n",
    "## **Interpolación de Taylor**"
   ]
  },
  {
   "cell_type": "markdown",
   "metadata": {},
   "source": [
    "La interpolación de Taylor es una técnica matemática que usa la serie de Taylor para aproximar una función mediante un polinomio, basado en la función y sus derivadas en un punto específico.\n",
    "\n",
    "![Polinomio de Taylor](../../resources/polinomio-taylor.png)\n",
    "\n",
    "Para la interpolación de Taylor se nos pide escoger un punto especifico para estos datos. Por lo que escogeremos el valor de de f(x=1), es decir escogeremos el valor de la función para el primer día. Para el valor de N escogeremos el mismo del total de días que hemos evaluado, es decir N = 7."
   ]
  },
  {
   "cell_type": "code",
   "execution_count": null,
   "metadata": {
    "tags": []
   },
   "outputs": [],
   "source": [
    "#Tendremos acceso a la libreria Sympy\n",
    "using Pkg\n",
    "Pkg.add(\"SymPy\")\n",
    "using SymPy"
   ]
  },
  {
   "cell_type": "code",
   "execution_count": 11,
   "metadata": {
    "tags": []
   },
   "outputs": [
    {
     "name": "stdout",
     "output_type": "stream",
     "text": [
      "-x^7*cos(1)/1008 - x^6*sin(1)/144 + x^6*cos(1)/144 + x^5*cos(1)/48 + x^5*sin(1)/24 - 25*x^4*cos(1)/144 + 5*x^4*sin(1)/48 - 25*x^3*sin(1)/36 - 65*x^3*cos(1)/144 - 65*x^2*sin(1)/48 + 101*x^2*cos(1)/48 + 389*x*cos(1)/144 + 101*x*sin(1)/24 - 4241*cos(1)/1008 + 389*sin(1)/144 + 25"
     ]
    }
   ],
   "source": [
    "x= symbols(\"x\")\n",
    "f= 5*sin(x)+25\n",
    "taylor = f.subs(x,1)\n",
    "for k in 1:7\n",
    "    derivada = diff(f,x)\n",
    "    taylor = taylor + derivada.subs(x,1) * ((x-1)^k)/factorial(k)\n",
    "    f = derivada\n",
    "end\n",
    "print(expand(taylor))"
   ]
  },
  {
   "cell_type": "markdown",
   "metadata": {},
   "source": [
    "A continuación, se mostrará la grafica de los datos originales y la interpolación de Taylor."
   ]
  },
  {
   "cell_type": "code",
   "execution_count": null,
   "metadata": {},
   "outputs": [],
   "source": [
    "x = 1:length(lista)\n",
    "y = lista\n",
    "scatter(x, y, xlabel=\"Día\", ylabel=\"Valor de la temperatura\", title=\"Temperatura a través de los días\", legend=false, marker=:circle)"
   ]
  },
  {
   "cell_type": "code",
   "execution_count": null,
   "metadata": {},
   "outputs": [],
   "source": [
    "plot(taylor,title=\"Polinomio de taylor\",legend=false)"
   ]
  },
  {
   "cell_type": "markdown",
   "metadata": {
    "tags": []
   },
   "source": [
    "---\n",
    "## **Interpolacion de Lagrange**"
   ]
  },
  {
   "cell_type": "markdown",
   "metadata": {},
   "source": [
    "La interpolación de Lagrange es una de las interpolaciones más útiles en integración numérica, ésta consiste en una representación de polinomios  de la función.\n",
    "\n",
    "![Polinomio de Langrange](https://misapuntesyacimientos.wordpress.com/wp-content/uploads/2016/05/clip_image003_thumb.png?w=600)\n",
    "\n",
    "El polinomio de interpolación de Lagrange, simplemente es una reformulación del polinomio de Newton que evita los cálculos de las diferencias divididas.\n",
    "\n",
    "Ahora con los datos anteriores que utilizamos en la interpolacion de Taylor , vamos a realizar la interpolacion de lagrange\n",
    "para todos los puntos..."
   ]
  },
  {
   "cell_type": "code",
   "execution_count": null,
   "metadata": {
    "tags": []
   },
   "outputs": [],
   "source": [
    "#Accedemos a libreria SymPy\n",
    "using Pkg\n",
    "Pkg.add(\"SymPy\")\n",
    "using SymPy"
   ]
  },
  {
   "cell_type": "code",
   "execution_count": 13,
   "metadata": {
    "tags": []
   },
   "outputs": [
    {
     "name": "stdout",
     "output_type": "stream",
     "text": [
      "5*X^6*sin(5)/48 - X^6*sin(2)/24 + X^6*sin(1)/144 + X^6*sin(7)/72 - X^6*sin(6)/24 + 5*X^6*sin(3)/48 + 5*X^6/144 - 5*X^6*sin(4)/36 + 15*X^5*sin(4)/4 - 175*X^5/144 + 19*X^5*sin(6)/12 - 83*X^5*sin(7)/144 - 55*X^5*sin(3)/24 - X^5*sin(1)/12 + 17*X^5*sin(2)/24 - 10*X^5*sin(5)/3 + 715*X^4*sin(5)/16 - 65*X^4*sin(2)/12 + 25*X^4*sin(1)/48 + 345*X^4*sin(3)/16 + 479*X^4*sin(7)/48 - 599*X^4*sin(6)/24 + 155*X^4/8 - 85*X^4*sin(4)/2 + 2335*X^3*sin(4)/9 - 1345*X^3/8 - 830*X^3*sin(7)/9 + 2509*X^3*sin(6)/12 - 445*X^3*sin(3)/4 - 20*X^3*sin(1)/9 + 145*X^3*sin(2)/6 - 2565*X^3*sin(5)/8 + 62245*X^2*sin(5)/48 - 200*X^2*sin(2)/3 + 325*X^2*sin(1)/48 + 5345*X^2*sin(3)/16 - 3929*X^2*sin(6)/4 + 34543*X^2*sin(7)/72 - 5395*X^2*sin(4)/6 + 121885*X^2/144 - 36345*X/16 + 1675*X*sin(4) - 63919*X*sin(7)/48 + 2455*X*sin(6) - 4405*X*sin(3)/8 - 163*X*sin(1)/12 + 334*X*sin(2)/3 - 67195*X*sin(5)/24 + 40275*sin(5)/16 - 248*sin(2)/3 + 13.5902777777778*sin(1) + 6135*sin(3)/16 - 2553*sin(6) - 11780*sin(4)/9 + 24619*sin(7)/16 + 2541.73611111111"
     ]
    }
   ],
   "source": [
    "x = symbols(\"X\")\n",
    "f = 5*sin(x) + 25\n",
    "Langrange = 0\n",
    "for i in 1:7\n",
    "    numerador = 1\n",
    "    denominador = 1\n",
    "    term = f.subs(x,i)\n",
    "    for j in 1:7\n",
    "        if j != i\n",
    "            numerador *= (x-i)\n",
    "            denominador *= (i - j)\n",
    "        end\n",
    "        divis = numerador / denominador\n",
    "        Langrange += term * divis\n",
    "        \n",
    "    end    \n",
    "end\n",
    "print(expand(Langrange))"
   ]
  },
  {
   "cell_type": "markdown",
   "metadata": {},
   "source": [
    "A continuación se graficará los valores de temperaturas obtenidos en 7 días"
   ]
  },
  {
   "cell_type": "code",
   "execution_count": null,
   "metadata": {},
   "outputs": [],
   "source": [
    "x = 1:length(lista)\n",
    "y = lista\n",
    "scatter(x, y, xlabel=\"Día\", ylabel=\"Valor de la temperatura\", title=\"Temperatura a través de los días\", legend=false, marker=:circle)"
   ]
  },
  {
   "cell_type": "code",
   "execution_count": null,
   "metadata": {},
   "outputs": [],
   "source": [
    "plot(Lagrange,title=\"Polinomio de Lagrange\",legend=false)"
   ]
  }
 ],
 "metadata": {
  "kernelspec": {
   "display_name": "Julia 1.10.3",
   "language": "julia",
   "name": "julia-1.10"
  },
  "language_info": {
   "file_extension": ".jl",
   "mimetype": "application/julia",
   "name": "julia",
   "version": "1.10.3"
  }
 },
 "nbformat": 4,
 "nbformat_minor": 4
}
