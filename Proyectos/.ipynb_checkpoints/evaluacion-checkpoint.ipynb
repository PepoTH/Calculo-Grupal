{
 "cells": [
  {
   "cell_type": "markdown",
   "id": "ae77fce1-d7e9-4dd4-8099-2b2c71a42811",
   "metadata": {},
   "source": [
    "Segunda Evaluacion - Grupal\n",
    "Principios basicos de The Julia Programming Language"
   ]
  }
 ],
 "metadata": {
  "kernelspec": {
   "display_name": "Python 3 (ipykernel)",
   "language": "python",
   "name": "python3"
  },
  "language_info": {
   "codemirror_mode": {
    "name": "ipython",
    "version": 3
   },
   "file_extension": ".py",
   "mimetype": "text/x-python",
   "name": "python",
   "nbconvert_exporter": "python",
   "pygments_lexer": "ipython3",
   "version": "3.11.7"
  }
 },
 "nbformat": 4,
 "nbformat_minor": 5
}
