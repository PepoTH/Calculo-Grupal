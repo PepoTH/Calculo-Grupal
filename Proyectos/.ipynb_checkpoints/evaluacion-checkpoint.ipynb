{
 "cells": [
  {
   "cell_type": "markdown",
   "id": "ae77fce1-d7e9-4dd4-8099-2b2c71a42811",
   "metadata": {},
   "source": [
    "Asignacion Grupal - Calculo Numerico  \n",
    "Universidad Jose Antonio Paez  \n",
    "  \n",
    "Integrantes:  \n",
    "-Cesar Dominguez 30.640.838  \n",
    "-Jose Santana  \n",
    "-Alejandro Chavez  \n",
    "\n",
    "---\n",
    "\n",
    "# Principios basicos de The Julia Programming Language\n"
   ]
  },
  {
   "cell_type": "markdown",
   "id": "a9153346-4988-40fe-b130-ee3bb3081c5d",
   "metadata": {},
   "source": [
    "Para crear variables no necesitas especificar el **tipo de dato**, solo lo igualas al dato que desees"
   ]
  },
  {
   "cell_type": "markdown",
   "id": "3f81e0a2-5f3c-4528-8612-1f49a895496b",
   "metadata": {
    "jp-MarkdownHeadingCollapsed": true,
    "tags": []
   },
   "source": [
    "#### TIPOS DE DATOS"
   ]
  },
  {
   "cell_type": "code",
   "execution_count": null,
   "id": "f549f0fa-0852-4218-b7fd-7da15ef4b4de",
   "metadata": {
    "tags": []
   },
   "outputs": [],
   "source": [
    "x = 10\n",
    "y = 45.89\n",
    "complejo = 4 + 5im\n",
    "booleanos = true\n",
    "caracter = 'a'\n",
    "palabra = \"Nuevo Valor\"\n"
   ]
  },
  {
   "cell_type": "markdown",
   "id": "197a88d1-2b83-455d-85a5-68ab54ffb368",
   "metadata": {},
   "source": [
    "Existen muchos tipos pero los mas importantes son: enteros, reales, complejo, booleano, caracter y strings o cadenas\n",
    "Tambien puede imprimir dichos resultados introduciendolos en la funcion:"
   ]
  },
  {
   "cell_type": "code",
   "execution_count": null,
   "id": "04441f98-ffbf-41b5-8e95-e63661d688bd",
   "metadata": {},
   "outputs": [],
   "source": [
    "println(dato)"
   ]
  },
  {
   "cell_type": "markdown",
   "id": "ee4bd79d-e451-477a-9029-d929ed808333",
   "metadata": {},
   "source": [
    "Ejemplo de tipos de datos:"
   ]
  },
  {
   "cell_type": "code",
   "execution_count": 53,
   "id": "008469e0-fbd8-49d3-bfab-56ce6daea767",
   "metadata": {
    "tags": []
   },
   "outputs": [
    {
     "name": "stdout",
     "output_type": "stream",
     "text": [
      "Tu numero es: 79"
     ]
    }
   ],
   "source": [
    "x = 79\n",
    "print(\"Tu numero es: \" * string(x))"
   ]
  },
  {
   "cell_type": "markdown",
   "id": "bcc45327-5dbe-4509-976e-1474f7f13f2b",
   "metadata": {},
   "source": [
    "Se puede concatenar o unir cadenas utilizando *, pero si son numeros previamente tienes que transformarlo a String,\n",
    "utilizando string(valor)   \n",
    "---"
   ]
  },
  {
   "cell_type": "markdown",
   "id": "5855b006-9383-45db-ab20-2b918219b331",
   "metadata": {
    "tags": []
   },
   "source": [
    "#### ARITMETICA"
   ]
  },
  {
   "cell_type": "markdown",
   "id": "b01ad0ca-1d3c-4ce9-abc9-12b6d1052309",
   "metadata": {
    "jp-MarkdownHeadingCollapsed": true,
    "tags": []
   },
   "source": [
    "##### Operadores Aritmeticos"
   ]
  },
  {
   "cell_type": "markdown",
   "id": "70a930b7-1e03-4159-b42c-d655f2c34f3d",
   "metadata": {
    "tags": []
   },
   "source": [
    "La operaciones que se pueden realizar en Julia no son muy diferentes a otros lenguajes de programacion"
   ]
  },
  {
   "cell_type": "code",
   "execution_count": null,
   "id": "d74b4ab4-714f-41fa-9893-476625d12c0a",
   "metadata": {
    "tags": []
   },
   "outputs": [],
   "source": [
    "y = 1\n",
    "x = 1\n",
    "\n",
    "x + y #Suma\n",
    "x - y #Resta\n",
    "x * y #Multiplicacion\n",
    "x / y #Division\n",
    "x \\ y #Division Inversa\n",
    "x ÷ y #Division Entera\n",
    "x ^ y #Potencia\n",
    "x % y #Residuo\n",
    "-x # Inversor"
   ]
  },
  {
   "cell_type": "markdown",
   "id": "650c7dff-6a96-4bc6-a650-ddf39dce9c44",
   "metadata": {},
   "source": [
    "Se pueden observar operaciones nuevas como la **division inversa** la cual invierte el numerador y el denominador, y los divide,\n",
    "es decir x \\ y = y / x. Tambien tenemos **division entera** la cual nos devuelve la parte entera de la division. Tenemos el **residuo**\n",
    "que nos devuelve el residuo de una division, y por ultimo el **inversor** que invierte el signo que tenga el numero."
   ]
  },
  {
   "cell_type": "markdown",
   "id": "01b21d13-3654-4b6b-af27-b7ca08968d9d",
   "metadata": {
    "tags": []
   },
   "source": [
    "##### Operadores Booleanos"
   ]
  },
  {
   "cell_type": "code",
   "execution_count": null,
   "id": "ae50885b-f376-4cad-b96b-700f71790860",
   "metadata": {},
   "outputs": [],
   "source": [
    "#CONTINUAR AQUI"
   ]
  }
 ],
 "metadata": {
  "kernelspec": {
   "display_name": "Julia 1.10.3",
   "language": "julia",
   "name": "julia-1.10"
  },
  "language_info": {
   "file_extension": ".jl",
   "mimetype": "application/julia",
   "name": "julia",
   "version": "1.10.3"
  }
 },
 "nbformat": 4,
 "nbformat_minor": 5
}
