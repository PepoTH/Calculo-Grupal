{
 "cells": [
  {
   "cell_type": "markdown",
   "id": "ae77fce1-d7e9-4dd4-8099-2b2c71a42811",
   "metadata": {},
   "source": [
    "Asignacion Grupal - Calculo Numerico\n",
    "Universidad Jose Antonio Paez\n",
    "\n",
    "Integrantes:\n",
    "-Cesar Dominguez 30.640.838\n",
    "-Jose Santana\n",
    "-Alejandro Chavez\n",
    "\n",
    "Principios basicos de The Julia Programming Language\n"
   ]
  },
  {
   "cell_type": "markdown",
   "id": "a9153346-4988-40fe-b130-ee3bb3081c5d",
   "metadata": {},
   "source": [
    "Para crear variables no necesitas especificar el tipo de dato, solo lo igualas al dato que desees"
   ]
  },
  {
   "cell_type": "code",
   "execution_count": 25,
   "id": "f549f0fa-0852-4218-b7fd-7da15ef4b4de",
   "metadata": {
    "tags": []
   },
   "outputs": [
    {
     "data": {
      "text/plain": [
       "\"Nuevo Valor\""
      ]
     },
     "execution_count": 25,
     "metadata": {},
     "output_type": "execute_result"
    }
   ],
   "source": [
    "x = 10\n",
    "y = 45.89\n",
    "complejo = 4 + 5im\n",
    "booleanos = true\n",
    "caracter = 'a'\n",
    "palabra = \"Nuevo Valor\"\n"
   ]
  },
  {
   "cell_type": "code",
   "execution_count": null,
   "id": "dff7a73d-daf3-4e95-a879-d5267d931de2",
   "metadata": {},
   "outputs": [],
   "source": []
  }
 ],
 "metadata": {
  "kernelspec": {
   "display_name": "Julia 1.10.3",
   "language": "julia",
   "name": "julia-1.10"
  },
  "language_info": {
   "file_extension": ".jl",
   "mimetype": "application/julia",
   "name": "julia",
   "version": "1.10.3"
  }
 },
 "nbformat": 4,
 "nbformat_minor": 5
}
